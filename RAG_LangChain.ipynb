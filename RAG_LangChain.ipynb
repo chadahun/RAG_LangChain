{
  "nbformat": 4,
  "nbformat_minor": 0,
  "metadata": {
    "colab": {
      "provenance": [],
      "authorship_tag": "ABX9TyNBgHPyI1ons4OFouLjlrsK",
      "include_colab_link": true
    },
    "kernelspec": {
      "name": "python3",
      "display_name": "Python 3"
    },
    "language_info": {
      "name": "python"
    }
  },
  "cells": [
    {
      "cell_type": "markdown",
      "metadata": {
        "id": "view-in-github",
        "colab_type": "text"
      },
      "source": [
        "<a href=\"https://colab.research.google.com/github/chadahun/RAG_LangChain/blob/main/RAG_LangChain.ipynb\" target=\"_parent\"><img src=\"https://colab.research.google.com/assets/colab-badge.svg\" alt=\"Open In Colab\"/></a>"
      ]
    },
    {
      "cell_type": "code",
      "execution_count": 10,
      "metadata": {
        "colab": {
          "base_uri": "https://localhost:8080/"
        },
        "id": "cptMbP0KnH9K",
        "outputId": "cc42a379-bbd0-4c5c-97db-0e1a872473df"
      },
      "outputs": [
        {
          "output_type": "stream",
          "name": "stdout",
          "text": [
            "Requirement already satisfied: langchain in /usr/local/lib/python3.10/dist-packages (0.3.9)\n",
            "Requirement already satisfied: langchain-community in /usr/local/lib/python3.10/dist-packages (0.3.8)\n",
            "Requirement already satisfied: faiss-cpu in /usr/local/lib/python3.10/dist-packages (1.9.0.post1)\n",
            "Requirement already satisfied: numpy in /usr/local/lib/python3.10/dist-packages (1.26.4)\n",
            "Requirement already satisfied: pandas in /usr/local/lib/python3.10/dist-packages (2.2.2)\n",
            "Requirement already satisfied: openai in /usr/local/lib/python3.10/dist-packages (1.54.4)\n",
            "Requirement already satisfied: wikipedia in /usr/local/lib/python3.10/dist-packages (1.4.0)\n",
            "Requirement already satisfied: langchain_openai in /usr/local/lib/python3.10/dist-packages (0.2.10)\n",
            "Requirement already satisfied: langchain_core in /usr/local/lib/python3.10/dist-packages (0.3.21)\n",
            "Collecting pypdf\n",
            "  Downloading pypdf-5.1.0-py3-none-any.whl.metadata (7.2 kB)\n",
            "Requirement already satisfied: PyYAML>=5.3 in /usr/local/lib/python3.10/dist-packages (from langchain) (6.0.2)\n",
            "Requirement already satisfied: SQLAlchemy<3,>=1.4 in /usr/local/lib/python3.10/dist-packages (from langchain) (2.0.35)\n",
            "Requirement already satisfied: aiohttp<4.0.0,>=3.8.3 in /usr/local/lib/python3.10/dist-packages (from langchain) (3.11.2)\n",
            "Requirement already satisfied: async-timeout<5.0.0,>=4.0.0 in /usr/local/lib/python3.10/dist-packages (from langchain) (4.0.3)\n",
            "Requirement already satisfied: langchain-text-splitters<0.4.0,>=0.3.0 in /usr/local/lib/python3.10/dist-packages (from langchain) (0.3.2)\n",
            "Requirement already satisfied: langsmith<0.2.0,>=0.1.17 in /usr/local/lib/python3.10/dist-packages (from langchain) (0.1.143)\n",
            "Requirement already satisfied: pydantic<3.0.0,>=2.7.4 in /usr/local/lib/python3.10/dist-packages (from langchain) (2.9.2)\n",
            "Requirement already satisfied: requests<3,>=2 in /usr/local/lib/python3.10/dist-packages (from langchain) (2.32.3)\n",
            "Requirement already satisfied: tenacity!=8.4.0,<10,>=8.1.0 in /usr/local/lib/python3.10/dist-packages (from langchain) (9.0.0)\n",
            "Requirement already satisfied: dataclasses-json<0.7,>=0.5.7 in /usr/local/lib/python3.10/dist-packages (from langchain-community) (0.6.7)\n",
            "Requirement already satisfied: httpx-sse<0.5.0,>=0.4.0 in /usr/local/lib/python3.10/dist-packages (from langchain-community) (0.4.0)\n",
            "Requirement already satisfied: pydantic-settings<3.0.0,>=2.4.0 in /usr/local/lib/python3.10/dist-packages (from langchain-community) (2.6.1)\n",
            "Requirement already satisfied: packaging in /usr/local/lib/python3.10/dist-packages (from faiss-cpu) (24.2)\n",
            "Requirement already satisfied: python-dateutil>=2.8.2 in /usr/local/lib/python3.10/dist-packages (from pandas) (2.8.2)\n",
            "Requirement already satisfied: pytz>=2020.1 in /usr/local/lib/python3.10/dist-packages (from pandas) (2024.2)\n",
            "Requirement already satisfied: tzdata>=2022.7 in /usr/local/lib/python3.10/dist-packages (from pandas) (2024.2)\n",
            "Requirement already satisfied: anyio<5,>=3.5.0 in /usr/local/lib/python3.10/dist-packages (from openai) (3.7.1)\n",
            "Requirement already satisfied: distro<2,>=1.7.0 in /usr/local/lib/python3.10/dist-packages (from openai) (1.9.0)\n",
            "Requirement already satisfied: httpx<1,>=0.23.0 in /usr/local/lib/python3.10/dist-packages (from openai) (0.27.2)\n",
            "Requirement already satisfied: jiter<1,>=0.4.0 in /usr/local/lib/python3.10/dist-packages (from openai) (0.7.1)\n",
            "Requirement already satisfied: sniffio in /usr/local/lib/python3.10/dist-packages (from openai) (1.3.1)\n",
            "Requirement already satisfied: tqdm>4 in /usr/local/lib/python3.10/dist-packages (from openai) (4.66.6)\n",
            "Requirement already satisfied: typing-extensions<5,>=4.11 in /usr/local/lib/python3.10/dist-packages (from openai) (4.12.2)\n",
            "Requirement already satisfied: beautifulsoup4 in /usr/local/lib/python3.10/dist-packages (from wikipedia) (4.12.3)\n",
            "Requirement already satisfied: tiktoken<1,>=0.7 in /usr/local/lib/python3.10/dist-packages (from langchain_openai) (0.8.0)\n",
            "Requirement already satisfied: jsonpatch<2.0,>=1.33 in /usr/local/lib/python3.10/dist-packages (from langchain_core) (1.33)\n",
            "Requirement already satisfied: aiohappyeyeballs>=2.3.0 in /usr/local/lib/python3.10/dist-packages (from aiohttp<4.0.0,>=3.8.3->langchain) (2.4.3)\n",
            "Requirement already satisfied: aiosignal>=1.1.2 in /usr/local/lib/python3.10/dist-packages (from aiohttp<4.0.0,>=3.8.3->langchain) (1.3.1)\n",
            "Requirement already satisfied: attrs>=17.3.0 in /usr/local/lib/python3.10/dist-packages (from aiohttp<4.0.0,>=3.8.3->langchain) (24.2.0)\n",
            "Requirement already satisfied: frozenlist>=1.1.1 in /usr/local/lib/python3.10/dist-packages (from aiohttp<4.0.0,>=3.8.3->langchain) (1.5.0)\n",
            "Requirement already satisfied: multidict<7.0,>=4.5 in /usr/local/lib/python3.10/dist-packages (from aiohttp<4.0.0,>=3.8.3->langchain) (6.1.0)\n",
            "Requirement already satisfied: propcache>=0.2.0 in /usr/local/lib/python3.10/dist-packages (from aiohttp<4.0.0,>=3.8.3->langchain) (0.2.0)\n",
            "Requirement already satisfied: yarl<2.0,>=1.17.0 in /usr/local/lib/python3.10/dist-packages (from aiohttp<4.0.0,>=3.8.3->langchain) (1.17.2)\n",
            "Requirement already satisfied: idna>=2.8 in /usr/local/lib/python3.10/dist-packages (from anyio<5,>=3.5.0->openai) (3.10)\n",
            "Requirement already satisfied: exceptiongroup in /usr/local/lib/python3.10/dist-packages (from anyio<5,>=3.5.0->openai) (1.2.2)\n",
            "Requirement already satisfied: marshmallow<4.0.0,>=3.18.0 in /usr/local/lib/python3.10/dist-packages (from dataclasses-json<0.7,>=0.5.7->langchain-community) (3.23.1)\n",
            "Requirement already satisfied: typing-inspect<1,>=0.4.0 in /usr/local/lib/python3.10/dist-packages (from dataclasses-json<0.7,>=0.5.7->langchain-community) (0.9.0)\n",
            "Requirement already satisfied: certifi in /usr/local/lib/python3.10/dist-packages (from httpx<1,>=0.23.0->openai) (2024.8.30)\n",
            "Requirement already satisfied: httpcore==1.* in /usr/local/lib/python3.10/dist-packages (from httpx<1,>=0.23.0->openai) (1.0.7)\n",
            "Requirement already satisfied: h11<0.15,>=0.13 in /usr/local/lib/python3.10/dist-packages (from httpcore==1.*->httpx<1,>=0.23.0->openai) (0.14.0)\n",
            "Requirement already satisfied: jsonpointer>=1.9 in /usr/local/lib/python3.10/dist-packages (from jsonpatch<2.0,>=1.33->langchain_core) (3.0.0)\n",
            "Requirement already satisfied: orjson<4.0.0,>=3.9.14 in /usr/local/lib/python3.10/dist-packages (from langsmith<0.2.0,>=0.1.17->langchain) (3.10.11)\n",
            "Requirement already satisfied: requests-toolbelt<2.0.0,>=1.0.0 in /usr/local/lib/python3.10/dist-packages (from langsmith<0.2.0,>=0.1.17->langchain) (1.0.0)\n",
            "Requirement already satisfied: annotated-types>=0.6.0 in /usr/local/lib/python3.10/dist-packages (from pydantic<3.0.0,>=2.7.4->langchain) (0.7.0)\n",
            "Requirement already satisfied: pydantic-core==2.23.4 in /usr/local/lib/python3.10/dist-packages (from pydantic<3.0.0,>=2.7.4->langchain) (2.23.4)\n",
            "Requirement already satisfied: python-dotenv>=0.21.0 in /usr/local/lib/python3.10/dist-packages (from pydantic-settings<3.0.0,>=2.4.0->langchain-community) (1.0.1)\n",
            "Requirement already satisfied: six>=1.5 in /usr/local/lib/python3.10/dist-packages (from python-dateutil>=2.8.2->pandas) (1.16.0)\n",
            "Requirement already satisfied: charset-normalizer<4,>=2 in /usr/local/lib/python3.10/dist-packages (from requests<3,>=2->langchain) (3.4.0)\n",
            "Requirement already satisfied: urllib3<3,>=1.21.1 in /usr/local/lib/python3.10/dist-packages (from requests<3,>=2->langchain) (2.2.3)\n",
            "Requirement already satisfied: greenlet!=0.4.17 in /usr/local/lib/python3.10/dist-packages (from SQLAlchemy<3,>=1.4->langchain) (3.1.1)\n",
            "Requirement already satisfied: regex>=2022.1.18 in /usr/local/lib/python3.10/dist-packages (from tiktoken<1,>=0.7->langchain_openai) (2024.9.11)\n",
            "Requirement already satisfied: soupsieve>1.2 in /usr/local/lib/python3.10/dist-packages (from beautifulsoup4->wikipedia) (2.6)\n",
            "Requirement already satisfied: mypy-extensions>=0.3.0 in /usr/local/lib/python3.10/dist-packages (from typing-inspect<1,>=0.4.0->dataclasses-json<0.7,>=0.5.7->langchain-community) (1.0.0)\n",
            "Downloading pypdf-5.1.0-py3-none-any.whl (297 kB)\n",
            "\u001b[2K   \u001b[90m━━━━━━━━━━━━━━━━━━━━━━━━━━━━━━━━━━━━━━━━\u001b[0m \u001b[32m298.0/298.0 kB\u001b[0m \u001b[31m3.5 MB/s\u001b[0m eta \u001b[36m0:00:00\u001b[0m\n",
            "\u001b[?25hInstalling collected packages: pypdf\n",
            "Successfully installed pypdf-5.1.0\n"
          ]
        }
      ],
      "source": [
        "!pip install langchain langchain-community faiss-cpu numpy pandas openai wikipedia langchain_openai langchain_core pypdf"
      ]
    },
    {
      "cell_type": "code",
      "source": [
        "from langchain.text_splitter import RecursiveCharacterTextSplitter\n",
        "from langchain.vectorstores import FAISS\n",
        "from langchain_community.document_loaders import PyPDFLoader\n",
        "from langchain_openai import ChatOpenAI, OpenAIEmbeddings\n",
        "from langchain.chains import RetrievalQA\n",
        "from langchain.prompts import PromptTemplate\n",
        "from langchain.runnables import RunnablePassthrough\n",
        "from langchain.output_parsers import StrOutputParser\n",
        "import pandas as pd\n",
        "import numpy as np\n",
        "import bs4\n",
        "import os\n",
        "from google.colab import userdata"
      ],
      "metadata": {
        "colab": {
          "base_uri": "https://localhost:8080/",
          "height": 404
        },
        "id": "_B4lSM85nRmC",
        "outputId": "69d013c8-1442-4ed3-8a4d-157b7511629f"
      },
      "execution_count": 112,
      "outputs": [
        {
          "output_type": "error",
          "ename": "ImportError",
          "evalue": "cannot import name 'RunnablePassthrough' from 'langchain.runnables' (/usr/local/lib/python3.10/dist-packages/langchain/runnables/__init__.py)",
          "traceback": [
            "\u001b[0;31m---------------------------------------------------------------------------\u001b[0m",
            "\u001b[0;31mImportError\u001b[0m                               Traceback (most recent call last)",
            "\u001b[0;32m<ipython-input-112-39fb8898c93a>\u001b[0m in \u001b[0;36m<cell line: 7>\u001b[0;34m()\u001b[0m\n\u001b[1;32m      5\u001b[0m \u001b[0;32mfrom\u001b[0m \u001b[0mlangchain\u001b[0m\u001b[0;34m.\u001b[0m\u001b[0mchains\u001b[0m \u001b[0;32mimport\u001b[0m \u001b[0mRetrievalQA\u001b[0m\u001b[0;34m\u001b[0m\u001b[0;34m\u001b[0m\u001b[0m\n\u001b[1;32m      6\u001b[0m \u001b[0;32mfrom\u001b[0m \u001b[0mlangchain\u001b[0m\u001b[0;34m.\u001b[0m\u001b[0mprompts\u001b[0m \u001b[0;32mimport\u001b[0m \u001b[0mPromptTemplate\u001b[0m\u001b[0;34m\u001b[0m\u001b[0;34m\u001b[0m\u001b[0m\n\u001b[0;32m----> 7\u001b[0;31m \u001b[0;32mfrom\u001b[0m \u001b[0mlangchain\u001b[0m\u001b[0;34m.\u001b[0m\u001b[0mrunnables\u001b[0m \u001b[0;32mimport\u001b[0m \u001b[0mRunnablePassthrough\u001b[0m\u001b[0;34m\u001b[0m\u001b[0;34m\u001b[0m\u001b[0m\n\u001b[0m\u001b[1;32m      8\u001b[0m \u001b[0;32mfrom\u001b[0m \u001b[0mlangchain\u001b[0m\u001b[0;34m.\u001b[0m\u001b[0moutput_parsers\u001b[0m \u001b[0;32mimport\u001b[0m \u001b[0mStrOutputParser\u001b[0m\u001b[0;34m\u001b[0m\u001b[0;34m\u001b[0m\u001b[0m\n\u001b[1;32m      9\u001b[0m \u001b[0;32mimport\u001b[0m \u001b[0mpandas\u001b[0m \u001b[0;32mas\u001b[0m \u001b[0mpd\u001b[0m\u001b[0;34m\u001b[0m\u001b[0;34m\u001b[0m\u001b[0m\n",
            "\u001b[0;31mImportError\u001b[0m: cannot import name 'RunnablePassthrough' from 'langchain.runnables' (/usr/local/lib/python3.10/dist-packages/langchain/runnables/__init__.py)",
            "",
            "\u001b[0;31m---------------------------------------------------------------------------\u001b[0;32m\nNOTE: If your import is failing due to a missing package, you can\nmanually install dependencies using either !pip or !apt.\n\nTo view examples of installing some common dependencies, click the\n\"Open Examples\" button below.\n\u001b[0;31m---------------------------------------------------------------------------\u001b[0m\n"
          ],
          "errorDetails": {
            "actions": [
              {
                "action": "open_url",
                "actionText": "Open Examples",
                "url": "/notebooks/snippets/importing_libraries.ipynb"
              }
            ]
          }
        }
      ]
    },
    {
      "cell_type": "code",
      "source": [
        "os.environ['OPENAI_API_KEY'] = userdata.get('openai_api')"
      ],
      "metadata": {
        "id": "tvOtmNCCnTmI"
      },
      "execution_count": 65,
      "outputs": []
    },
    {
      "cell_type": "code",
      "source": [
        "loader = PyPDFLoader('ML.pdf')"
      ],
      "metadata": {
        "id": "k97BIobFqHCy"
      },
      "execution_count": 26,
      "outputs": []
    },
    {
      "cell_type": "code",
      "source": [
        "docs = loader.load()"
      ],
      "metadata": {
        "id": "-_W2UJwzqORo"
      },
      "execution_count": 27,
      "outputs": []
    },
    {
      "cell_type": "code",
      "source": [
        "print(docs)"
      ],
      "metadata": {
        "colab": {
          "base_uri": "https://localhost:8080/"
        },
        "id": "4myHaL3Mqebw",
        "outputId": "d6755c3b-1195-4d67-c22d-e84daa111d7b"
      },
      "execution_count": 32,
      "outputs": [
        {
          "output_type": "stream",
          "name": "stdout",
          "text": [
            "[Document(metadata={'source': 'ML.pdf', 'page': 0}, page_content='1 장  한눈에  보는  머신러닝1 장  한눈에  보는  머신러닝'), Document(metadata={'source': 'ML.pdf', 'page': 1}, page_content='감사의  글감사의  글\\n자료를  공개한  저자  오렐리앙  제롱에게  깊은  감사를  드립니다 . 이와  더불어  한빛미디어로부터  강의준비에\\n필요한  자료를  지원받았음을  밝히며 , 이에  대해  진심어린  감사를  전합니다 .'), Document(metadata={'source': 'ML.pdf', 'page': 2}, page_content='모든  데이터  과학자가  꼭  알아야  할  여러  가지  기초  개념과  용어  설명'), Document(metadata={'source': 'ML.pdf', 'page': 3}, page_content='1.1 머신러닝이란 ?1.1 머신러닝이란 ?'), Document(metadata={'source': 'ML.pdf', 'page': 4}, page_content='머신러닝은  명시적인  프로그래밍 없이  컴퓨터가  학습하는  능력을  갖추게  하는  연구  분야'), Document(metadata={'source': 'ML.pdf', 'page': 5}, page_content='머신러닝  프로그램  예제머신러닝  프로그램  예제\\n스팸  필터\\n스팸 (spam) 과  스팸이  아닌  메일 (ham) 의  샘플을  이용하여  스팸메일  구분법  학습'), Document(metadata={'source': 'ML.pdf', 'page': 6}, page_content='기본  용어기본  용어\\n훈련  세트 (training set): 머신러닝  프로그램이  훈련 ( 학습 ) 하는  데  사용하는  데이터  집합\\n훈련  사례  혹은  샘플 (training instance): 각각의  훈련용  데이터'), Document(metadata={'source': 'ML.pdf', 'page': 7}, page_content='1.2 왜  머신러닝을  사용하는가 ?1.2 왜  머신러닝을  사용하는가 ?'), Document(metadata={'source': 'ML.pdf', 'page': 8}, page_content='전통적인  프로그래밍전통적인  프로그래밍\\n전통적인  프로그래밍  접근  방법은  다음과  같다 .\\n문제  연구: 누군가가  문제를  해결하기  위해  해결책을  찾음\\n규칙  작성: 결정된  규칙을  개발자가  프로그램을  작성\\n평가: 만들어진  프로그램을  테스트\\n문제가  없다면  론칭, 문제가  있다면  오차를  분석한  후  처음  과정부터  다시  실시'), Document(metadata={'source': 'ML.pdf', 'page': 9}, page_content='예제 : 스팸  메일  분류예제 : 스팸  메일  분류\\n특정  단어가  들어가면  스팸  메일로\\n프로그램이  론칭된  후  새로운  스팸단어가  생겼을  때  소프트웨어는  이  단어를  자동으로  분류할  수\\n없음\\n개발자가  새로운  규칙을  업데이트  시켜줘야  함\\n새로운  규칙이  생겼을  때  사용자가  매번  업데이트를 시켜줘야하기  때문에  유지  보수가  어려움'), Document(metadata={'source': 'ML.pdf', 'page': 10}, page_content='머신러닝머신러닝\\n즉 , 알고리즘이  데이터로부터  스스로  스팸의  특징을  찾음 .\\n머신러닝  접근  방법\\n문제  연구\\n머신러닝  알고리즘  훈련 : 주어진  데이터를  바탕으로  훈련\\n솔루션  평가 : 문제가  없다면  론칭 , 문제가  있다면  오차를  분석한  후  처음  과정부터  다시\\n실시'), Document(metadata={'source': 'ML.pdf', 'page': 11}, page_content=\"예제 : 스팸  메일  분류예제 : 스팸  메일  분류\\n사용자가  스팸으로  지정한  메일에  'For U' 가  자주  등장하는  경우  이  단어가  포함된  이메일을  스팸\\n으로  분류하도록  스스로  학습\"), Document(metadata={'source': 'ML.pdf', 'page': 12}, page_content='머신러닝  학습  자동화머신러닝  학습  자동화\\n머신러닝  작업  흐름의  전체를  머신러닝  파이프라인 또는  MLOps(Machine Learning\\nOperations, 머신러닝  운영 )라  부르며  자동화가  가능함 .\\n참조 : MLOps: 머신러닝의  지속적  배포  및  자동화  파이프라인\\n(https://cloud.google.com/solutions/machine-learning/mlops-continuous-delivery-\\nand-automation-pipelines-in-machine-learning)'), Document(metadata={'source': 'ML.pdf', 'page': 13}, page_content='머신러닝의  장점머신러닝의  장점\\n전통적인  방식으로는  해결  방법이  없는  복잡한  문제  해결  가능\\n머신러닝  시스템은  새로운  데이터에  쉽게  적응  가능\\n복잡한  문제와  대량의  데이터에서  통찰  얻기 (데이터  마이닝 data mining)'), Document(metadata={'source': 'ML.pdf', 'page': 14}, page_content='1.3 적용  사례1.3 적용  사례'), Document(metadata={'source': 'ML.pdf', 'page': 15}, page_content='대표적인  머신러닝  적용  사례대표적인  머신러닝  적용  사례\\n이미지  분류  작업 : 생산  라인에서  제품  이미지를  분석해  자동으로  분류\\n시맨틱  분할  작업 : 뇌를  스캔하여  종양  진단\\n텍스트  분류 ( 자연어  처리 ): 자동으로  뉴스  기사  분류\\n텍스트  분류 : 토론  포럼에서  부정적인  코멘트를  자동으로  구분\\n텍스트  요약 : 긴  문서를  자동으로  요약\\n자연어  이해  : 챗봇 (chatbot) 또는  개인  비서  만들기'), Document(metadata={'source': 'ML.pdf', 'page': 16}, page_content='회귀  분석 : 회사의  내년도  수익을  예측하기\\n음성  인식 : 음성  명령에  반응하는  앱\\n이상치  탐지 : 신용  카드  부정  거래  감지\\n군집  작업 : 구매  이력을  기반  고객  분류  후  다른  마케팅  전략  계획\\n데이터  시각화 : 고차원의  복잡한  데이터셋을  그래프로  효율적  표현\\n추천  시스템 : 과거  구매  이력  관심  상품  추천\\n강화  학습 : 지능형  게임  봇 (bot) 만들기'), Document(metadata={'source': 'ML.pdf', 'page': 17}, page_content='1.4 머신러닝  시스템의  종류1.4 머신러닝  시스템의  종류'), Document(metadata={'source': 'ML.pdf', 'page': 18}, page_content='머신러닝  시스템  분류  기준머신러닝  시스템  분류  기준'), Document(metadata={'source': 'ML.pdf', 'page': 19}, page_content='훈련  지도  여부훈련  지도  여부\\n지도  학습\\n비지도  학습\\n준지도  학습\\n강화  학습'), Document(metadata={'source': 'ML.pdf', 'page': 20}, page_content='실시간  훈련  여부실시간  훈련  여부\\n온라인  학습\\n배치  학습'), Document(metadata={'source': 'ML.pdf', 'page': 21}, page_content='예측  모델  사용  여부예측  모델  사용  여부\\n사례  기반  학습\\n모델  기반  학습'), Document(metadata={'source': 'ML.pdf', 'page': 22}, page_content='분류  기준의  비배타성분류  기준의  비배타성\\n분류  기준이  상호  배타적이지  않음 .\\n스팸  필터  예제\\n심층  신경망  모델  활용  실시간  스팸  메일  분류  학습  가능\\n지도  학습  + 온라인  학습  + 모델  기반  학습'), Document(metadata={'source': 'ML.pdf', 'page': 23}, page_content='지도  학습지도  학습'), Document(metadata={'source': 'ML.pdf', 'page': 24}, page_content='훈련  데이터에  레이블 (label)이라는  답  포함\\n레이블  대신에  타깃 (target)이란  표현도  사용됨 .\\n대표적  지도  학습\\n분류\\n회귀'), Document(metadata={'source': 'ML.pdf', 'page': 25}, page_content='분류분류\\n특성을  사용한  데이터  분류\\n예제 : 스팸  필터\\n특성 : 소속  정보 , 특정  단어  포함  여부  등\\n레이블 ( 타깃 ): 스팸  또는  햄'), Document(metadata={'source': 'ML.pdf', 'page': 26}, page_content='회귀회귀\\n특성을  사용하여  타깃 (target) 수치  예측\\n예제 : 중고차  가격  예측\\n특성 : 주행거리 , 연식 , 브랜드  등\\n타깃 : 중고차  가격'), Document(metadata={'source': 'ML.pdf', 'page': 27}, page_content='중요한  지도학습  알고리즘들중요한  지도학습  알고리즘들\\nk- 최근접  이웃 (k-NNs)\\n선형  회귀 (linear regression)\\n로지스틱  회귀 (logistic regression)\\n서포트  벡터  머신 (support vector machines, SVCs)\\n결정  트리 (decision trees) 와  랜덤  포레스트 (random forests)\\n신경망 (neural networks)'), Document(metadata={'source': 'ML.pdf', 'page': 28}, page_content='주의사항주의사항\\n일부  회귀  알고리즘을  분류에  사용\\n일부  분류  알고리즘을  회귀에  사용\\n예제 : 로지스틱  회귀 , SVM 등등'), Document(metadata={'source': 'ML.pdf', 'page': 29}, page_content='비지도  학습비지도  학습\\n레이블  없는  훈련  데이터를  이용하여  시스템  스스로  학습\\n'), Document(metadata={'source': 'ML.pdf', 'page': 30}, page_content='대표적  비지도  학습\\n군집\\n시각화\\n차원  축소\\n연관  규칙  학습'), Document(metadata={'source': 'ML.pdf', 'page': 31}, page_content='군집군집\\n데이터를  비슷한  특징을  가진  몇  개의  그룹으로  나누는  것\\n예제\\n블로그  방문자들을  그룹으로  묶기 : 남성 , 여성 , 주말 , 주중 , 만화책 , SF, 등등'), Document(metadata={'source': 'ML.pdf', 'page': 32}, page_content='군집  알고리즘군집  알고리즘\\n* k- 평균 \\n* DBSCAN \\n* 계층  군집  분석'), Document(metadata={'source': 'ML.pdf', 'page': 33}, page_content='시각화시각화\\n다차원  특성을  가진  데이터셋을  2D 또는  3D 로  표현하기\\n시각화를  하기  위해서는  데이터의  특성을  2 가지로  줄여야함\\n'), Document(metadata={'source': 'ML.pdf', 'page': 34}, page_content=\"차원  축소차원  축소\\n데이터의  특성  수  줄이기\\n예제\\n특성  추출 : 상관관계가  있는  여러  특성을  하나로  합치기\\n자동차의  주행거리와  연식은  상관관계가  높음 . 따라서  차의  ' 마모정도 ' 라는  하나의  특성\\n으로  합칠  수  있음 .\\n차원  축소의  장점 : 머신러닝  알고리즘의  성능  향상\\n훈련  실행  속도  빨라짐\\n메모리  사용  공간  줄어듬\"), Document(metadata={'source': 'ML.pdf', 'page': 35}, page_content='시각화와  차원축소  알고리즘시각화와  차원축소  알고리즘\\n* 주성분  분석 (PCA) \\n* 커널  PCA \\n* 지역적  선형  임베딩 \\n* t-SNE'), Document(metadata={'source': 'ML.pdf', 'page': 36}, page_content='비정상  탐지 (anomaly detection)비정상  탐지 (anomaly detection)\\n정상  샘플을  이용하여  훈련  후  입력  샘플의  정상여부  판단 .\\n예제\\n부정거래  사용  감지\\n제조  결함  잡아내기\\n이상치 (outliers) 자동  제거'), Document(metadata={'source': 'ML.pdf', 'page': 37}, page_content=\"특이치  탐지 (novelty detection)특이치  탐지 (novelty detection)\\n전혀  ' 오염되지  않은 '(clean) 훈련  세트  활용  후  훈련  세트에  포함된  데이터와  달라  보이는  테이터\\n감지하기\"), Document(metadata={'source': 'ML.pdf', 'page': 38}, page_content='비정상  탐지  vs. 특이치  탐지비정상  탐지  vs. 특이치  탐지\\n예제 : 수  천장의  강아지  사진에  치와와  사진이  1% 정도  포함되어  있는  경우\\n특이치  탐지  알고리즘은  새로운  치와와  사진을  특이한  것으로  간주하지  않음 .\\n반면에  비정상  탐지  알고리즘은  새로운  치와와  사진을  다른  강아지들과  다른  종으로  간\\n주할  수  있음 .'), Document(metadata={'source': 'ML.pdf', 'page': 39}, page_content='비정상  탐지와  특이치  탐지  알고리즘비정상  탐지와  특이치  탐지  알고리즘\\n원 - 클래스  SVM\\nIsolation Forest'), Document(metadata={'source': 'ML.pdf', 'page': 40}, page_content='연관  규칙  학습연관  규칙  학습\\n데이터  특성  간의  흥미로운  관계  찾기\\n예제\\n마트  판매  기록 : 바비규  소스와  감자  구매와  스테이크  구매  사의  연관성이  밝혀지면  상\\n품을  서로  가까이  진열해야  함 .'), Document(metadata={'source': 'ML.pdf', 'page': 41}, page_content='연관  규칙  학습  알고리즘연관  규칙  학습  알고리즘\\nApriori( 에이프라이어라이 )\\nEclat( 에이클라 )'), Document(metadata={'source': 'ML.pdf', 'page': 42}, page_content='준지도  학습준지도  학습\\n적은  수의  샘플에만  레이블  적용\\n비지도  학습을  통해  군집을  분류한  후  샘플들을  활용해  지도  학습을  시킴\\n대부분  지도  학습과  비지도  학습  혼합  사용'), Document(metadata={'source': 'ML.pdf', 'page': 43}, page_content='준지도  학습  예제준지도  학습  예제\\n구글  포토  호스팅 : 가족  사진  몇  장에만  레이블  적용 . 이후  모든  사진에서  가족사진  확인  가능 .\\n아래  그림  참조 : 새로운  사례  X를  세모에  더  가깝다고  판단함 .'), Document(metadata={'source': 'ML.pdf', 'page': 44}, page_content='준지도  학습  알고리즘준지도  학습  알고리즘\\n심층  신뢰  신경망 (deep belief network, DBN)\\n제한된  볼츠만  기계 (restricted Boltzmann mahcine) 이라는  비지도  학습  활용  후 , 전\\n체  시스템을  지도학습시킴 .'), Document(metadata={'source': 'ML.pdf', 'page': 45}, page_content='강화  학습강화  학습\\n에이전트 ( 학습  시스템 ) 가  취한  행동에  대해  보상  또는  벌점을  주어  가장  큰  보상을  받는  방향으로\\n유도하기\\n'), Document(metadata={'source': 'ML.pdf', 'page': 46}, page_content='강화  학습  예제강화  학습  예제\\n보행  로봇\\n딥마인드 (DeepMind) 의  알파고 (AlphaGo)'), Document(metadata={'source': 'ML.pdf', 'page': 47}, page_content='배치  학습  vs. 온라인  학습배치  학습  vs. 온라인  학습\\n점진적으로  입력되는  데이터로부터  학습  가능여부에  따라  구분'), Document(metadata={'source': 'ML.pdf', 'page': 48}, page_content='배치  학습 (batch learning)배치  학습 (batch learning)\\n주어진  훈련  세트  전체를  사용해  오프라인에서  훈련\\n먼저  시스템을  훈련시킨  후  더  이상의  학습  없이  제품  시스템에  적용\\n단점\\n컴퓨팅  자원 (cpu, gpu, 메모리 , 저장장치  등 ) 이  충분한  경우에만  사용  가능\\n새로운  데이터가  들어오면  처음부터  새롭게  학습해야  함 . 하지만  \\n 등을  이용한  자동화\\n가능\\nMLOps\\n(https://cloud.google.com/solutions/machine-learning/mlops-continuous-\\ndelivery-and-automation-pipelines-in-machine-learning)'), Document(metadata={'source': 'ML.pdf', 'page': 49}, page_content='온라인  학습 (online learing)온라인  학습 (online learing)\\n적은  양의  데이터 ( 미니배치 , mini-batch) 를  사용해  점진적으로  훈련\\n'), Document(metadata={'source': 'ML.pdf', 'page': 50}, page_content='단점\\n나쁜  데이터가  주입되는  경우  시스템  성능이  점진적으로  떨어질  수  있음 .\\n지속적인  시스템  모니터링  필요'), Document(metadata={'source': 'ML.pdf', 'page': 51}, page_content='예제\\n주식가격  시스템  등  실시간  반영이  중요한  시스템\\n스마트폰  등  제한된  자원의  시스템\\n외부  메모리  학습 : 매우  큰  데이터셋  활용하는  시스템\\n'), Document(metadata={'source': 'ML.pdf', 'page': 52}, page_content=\"사례  기반  학습  vs. 모델  기반  학습사례  기반  학습  vs. 모델  기반  학습\\n머신러닝  시스템의  일반화 (generalization) 방식에  따른  분류\\n일반화 : ' 새로운  데이터에  대한  예측을  잘한다 ' 는  의미\"), Document(metadata={'source': 'ML.pdf', 'page': 53}, page_content='사례  기반  학습사례  기반  학습\\n샘플을  기억하는  것이  훈련의  전부\\n예측을  위해  기존  샘플과의  유사도 측정\\n예제\\nk-NN 알고리즘\\n아래  그림 : 새로운  샘플  X가  기존에  세모인  샘플과의  유사도가  높기  때문에  세모로  분\\n류 .'), Document(metadata={'source': 'ML.pdf', 'page': 54}, page_content=''), Document(metadata={'source': 'ML.pdf', 'page': 55}, page_content='모델  기반  학습모델  기반  학습\\n모델을  미리  지정한  후  훈련  세트를  사용해서  모델을  훈련시킴\\n훈련된  모델을  사용해  새로운  데이터에  대한  예측  실행\\n예제\\n이  책의  다루는  대부분의  알고리즘\\n위  그림 : 학습된  모델을  이용하여  새로운  데이터  X를  세모  클래스로  분류'), Document(metadata={'source': 'ML.pdf', 'page': 56}, page_content='선형  모델  학습  예제선형  모델  학습  예제\\n목표 : OECD 국가의  1 인당  GDP(1 인당  국가총생산 ) 와  삶의  만족도  사이의  관계  파악'), Document(metadata={'source': 'ML.pdf', 'page': 57}, page_content='1 인당  GDP 가  증가할  수록  삶의  만족도가  선형으로  증가하는  것처럼  보임 .\\n데이터를  대표하는  하나의  직선 ( 선형  모델 ) 을  찾기'), Document(metadata={'source': 'ML.pdf', 'page': 58}, page_content='선형  모델 :\\n삶의만족도  =  1 인당 GDP\\n: 모델  파라미터\\n: 기울기\\n: 편향 ( 절편 )\\n+ ×𝜃0 𝜃1\\n,𝜃0 𝜃1\\n𝜃0\\n𝜃1\\n데이터를  대표할  수  있는  선형  방정식을  찾아야  함\\n'), Document(metadata={'source': 'ML.pdf', 'page': 59}, page_content='학습되는  모델의  성능평가기준을  측정하여  가장  적합한  모델  학습\\n효용  함수 : 모델이  얼마나  좋은지  측정\\n비용  함수 : 모델이  얼마나  나쁜지  측정\\n'), Document(metadata={'source': 'ML.pdf', 'page': 60}, page_content='1.5 머신러닝의  주요  도전  과제1.5 머신러닝의  주요  도전  과제'), Document(metadata={'source': 'ML.pdf', 'page': 61}, page_content='충분하지  않은  양의  훈련  데이터충분하지  않은  양의  훈련  데이터\\n간단한  문제라도  수천  개의  데이터가  필요\\n이미지나  음성  인식  같은  문제는  수백만  개가  필요할  수도  있음\\n데이터가  부족하면  알고리즘  성능  향성  어려움'), Document(metadata={'source': 'ML.pdf', 'page': 62}, page_content=''), Document(metadata={'source': 'ML.pdf', 'page': 63}, page_content='대표성  없는  훈련  데이터대표성  없는  훈련  데이터\\n샘플링  잡음 : 우연에  의해  대표성이  없는  데이터\\n샘플링  편향 : 표본  추출  방법이  잘못된  대표성이  없는  데이터\\n'), Document(metadata={'source': 'ML.pdf', 'page': 64}, page_content='낮은  품질의  데이터낮은  품질의  데이터\\n이상치  샘플이라면  고치거나  무시\\n특성이  누락되었다면\\n해당  특성을  제외\\n해당  샘플을  제외\\n누락된  값을  채움\\n해당  특성을  넣은  경우와  뺀  경우  각기  모델을  훈련'), Document(metadata={'source': 'ML.pdf', 'page': 65}, page_content='관련이  없는  특성관련이  없는  특성\\n특성  공학 : 풀려는  문제에  관련이  높은  특성  찾기\\n특성  선택 : 준비되어  있는  특성  중  가장  유용한  특성을  찾음\\n특성  추출 : 특성을  조합하여  새로운  특성을  만듦'), Document(metadata={'source': 'ML.pdf', 'page': 66}, page_content='과대적합과대적합\\n훈련  세트에  특화되어  일반화  성능이  떨어지는  현상\\n'), Document(metadata={'source': 'ML.pdf', 'page': 67}, page_content='여러  규제를  적용해  과대적합을  감소시킬  수  있음\\n'), Document(metadata={'source': 'ML.pdf', 'page': 68}, page_content='과소적합과소적합\\n모델이  너무  단순해서  훈련  세트를  잘  학습하지  못함\\n해결  방법\\n모델  파라미터가  더  많은  강력한  모델을  사용\\n특성  공학으로  더  좋은  특성을  찾음\\n규제의  강도를  줄임'), Document(metadata={'source': 'ML.pdf', 'page': 69}, page_content='1.6 테스트와  검증1.6 테스트와  검증'), Document(metadata={'source': 'ML.pdf', 'page': 70}, page_content='검증검증\\n훈련된  모델의  성능  평가 : 테스트  세트  활용\\n전체  데이터셋을  훈련  세트 (80%) 와  테스트  세트 (20%) 로  구분\\n훈련  세트 : 모델  훈련용 .\\n테스트  세트 : 모델  테스트용\\n데이터셋이  매우  크면  테스트  세트  비율을  낮출  수  있음 .\\n검증  기준 : 일반화  오차\\n새로운  샘플에  대한  오류  비율\\n학습된  모델의  일반화  성능의  기준\\n과대  적합 : 훈련  오차에  비해  일반화  오차가  높은  경우'), Document(metadata={'source': 'ML.pdf', 'page': 71}, page_content='하이퍼파라미터  튜닝과  교차  검증하이퍼파라미터  튜닝과  교차  검증'), Document(metadata={'source': 'ML.pdf', 'page': 72}, page_content='하이퍼파라미터 (hyper-parameter)하이퍼파라미터 (hyper-parameter)\\n알고리즘  학습  모델을  지정에  사용되는  파라미터\\n훈련  과정에  변하는  파라미터가  아님\\n하이퍼파라미터를  조절하면서  가장  좋은  성능의  모델  선정'), Document(metadata={'source': 'ML.pdf', 'page': 73}, page_content='교차  검증교차  검증\\n예비표본 ( 홀드아웃 holdout) 검증\\n예비표본 ( 검증세트 ): 훈련  세트의  일부로  만들어진  데이터셋\\n다양한  하이퍼파라미터  값을  후보  모델  평가용으로  예비표본을  검증세트로  활용하는\\n기법\\n교차  검증\\n여러  개의  검증세트를  사용한  반복적인  예비표본  검증  적용  기법\\n장점 : 교차  검증  후  모든  모델의  평가를  평균하면  훨씬  정확한  성능  측정  가능\\n단점 : 훈련  시간이  검증  세트의  개수에  비례해  늘어남'), Document(metadata={'source': 'ML.pdf', 'page': 74}, page_content='데이터  불일치데이터  불일치\\n모델  훈련에  사용된  데이터가  실전에  사용되는  데이터를  완벽하게  대변하지  못하는  경우  발생\\n예제 : 꽃이름  확인  알고리즘\\n인터넷으로  구한  꽃사진으로  모델  훈련\\n이후  직접  촬영한  사진으로  진행한  성능측정이  낮게  나오면  데이터  불일치 가능성  높음'), Document(metadata={'source': 'ML.pdf', 'page': 75}, page_content='데이터  불일치  여부  확인  방법\\n훈련 - 개발  세트 : 예를  들어 , 인터넷에서  다운로드한  꽃사진의  일부\\n나머지  꽃사진으로  모델  훈련  후 , 훈련 - 개발  세트를  이용한  성능  평가  진행\\n데이터  불일치  발생 : 성능  평가가  좋지만  직접  촬영한  사진으로  구성된  검증  세트에  대\\n한  성증이  좋지  않은  경우'), Document(metadata={'source': 'ML.pdf', 'page': 76}, page_content='공짜  점심  없음 (No free lunch)공짜  점심  없음 (No free lunch)\\n주어진  데이터셋에  가장  적절한  모델을  미리  알  수  없음 .\\n다양한  모델과  다양한  하이퍼파라미터  튜닝을  통해  확인해야  함 .')]\n"
          ]
        }
      ]
    },
    {
      "cell_type": "code",
      "source": [
        "text_splitter = RecursiveCharacterTextSplitter(chunk_size=300, chunk_overlap=30, is_separator_regex=True)"
      ],
      "metadata": {
        "id": "4hLzUgPMrDY5"
      },
      "execution_count": 100,
      "outputs": []
    },
    {
      "cell_type": "code",
      "source": [
        "splits = text_splitter.split_documents(docs)"
      ],
      "metadata": {
        "id": "oTOD7BHotZKZ"
      },
      "execution_count": 101,
      "outputs": []
    },
    {
      "cell_type": "code",
      "source": [
        "splits"
      ],
      "metadata": {
        "colab": {
          "base_uri": "https://localhost:8080/"
        },
        "id": "E51wsAZVtiyY",
        "outputId": "0ac8bf64-864a-466d-f0ab-50f571e99b5d"
      },
      "execution_count": 102,
      "outputs": [
        {
          "output_type": "execute_result",
          "data": {
            "text/plain": [
              "[Document(metadata={'source': 'ML.pdf', 'page': 0}, page_content='1 장  한눈에  보는  머신러닝1 장  한눈에  보는  머신러닝'),\n",
              " Document(metadata={'source': 'ML.pdf', 'page': 1}, page_content='감사의  글감사의  글\\n자료를  공개한  저자  오렐리앙  제롱에게  깊은  감사를  드립니다 . 이와  더불어  한빛미디어로부터  강의준비에'),\n",
              " Document(metadata={'source': 'ML.pdf', 'page': 1}, page_content='필요한  자료를  지원받았음을  밝히며 , 이에  대해  진심어린  감사를  전합니다 .'),\n",
              " Document(metadata={'source': 'ML.pdf', 'page': 2}, page_content='모든  데이터  과학자가  꼭  알아야  할  여러  가지  기초  개념과  용어  설명'),\n",
              " Document(metadata={'source': 'ML.pdf', 'page': 3}, page_content='1.1 머신러닝이란 ?1.1 머신러닝이란 ?'),\n",
              " Document(metadata={'source': 'ML.pdf', 'page': 4}, page_content='머신러닝은  명시적인  프로그래밍 없이  컴퓨터가  학습하는  능력을  갖추게  하는  연구  분야'),\n",
              " Document(metadata={'source': 'ML.pdf', 'page': 5}, page_content='머신러닝  프로그램  예제머신러닝  프로그램  예제\\n스팸  필터\\n스팸 (spam) 과  스팸이  아닌  메일 (ham) 의  샘플을  이용하여  스팸메일  구분법  학습'),\n",
              " Document(metadata={'source': 'ML.pdf', 'page': 6}, page_content='기본  용어기본  용어\\n훈련  세트 (training set): 머신러닝  프로그램이  훈련 ( 학습 ) 하는  데  사용하는  데이터  집합'),\n",
              " Document(metadata={'source': 'ML.pdf', 'page': 6}, page_content='훈련  사례  혹은  샘플 (training instance): 각각의  훈련용  데이터'),\n",
              " Document(metadata={'source': 'ML.pdf', 'page': 7}, page_content='1.2 왜  머신러닝을  사용하는가 ?1.2 왜  머신러닝을  사용하는가 ?'),\n",
              " Document(metadata={'source': 'ML.pdf', 'page': 8}, page_content='전통적인  프로그래밍전통적인  프로그래밍\\n전통적인  프로그래밍  접근  방법은  다음과  같다 .\\n문제  연구: 누군가가  문제를  해결하기  위해  해결책을  찾음'),\n",
              " Document(metadata={'source': 'ML.pdf', 'page': 8}, page_content='규칙  작성: 결정된  규칙을  개발자가  프로그램을  작성\\n평가: 만들어진  프로그램을  테스트'),\n",
              " Document(metadata={'source': 'ML.pdf', 'page': 8}, page_content='평가: 만들어진  프로그램을  테스트\\n문제가  없다면  론칭, 문제가  있다면  오차를  분석한  후  처음  과정부터  다시  실시'),\n",
              " Document(metadata={'source': 'ML.pdf', 'page': 9}, page_content='예제 : 스팸  메일  분류예제 : 스팸  메일  분류\\n특정  단어가  들어가면  스팸  메일로'),\n",
              " Document(metadata={'source': 'ML.pdf', 'page': 9}, page_content='특정  단어가  들어가면  스팸  메일로\\n프로그램이  론칭된  후  새로운  스팸단어가  생겼을  때  소프트웨어는  이  단어를  자동으로  분류할  수\\n없음'),\n",
              " Document(metadata={'source': 'ML.pdf', 'page': 9}, page_content='없음\\n개발자가  새로운  규칙을  업데이트  시켜줘야  함\\n새로운  규칙이  생겼을  때  사용자가  매번  업데이트를 시켜줘야하기  때문에  유지  보수가  어려움'),\n",
              " Document(metadata={'source': 'ML.pdf', 'page': 10}, page_content='머신러닝머신러닝\\n즉 , 알고리즘이  데이터로부터  스스로  스팸의  특징을  찾음 .\\n머신러닝  접근  방법\\n문제  연구'),\n",
              " Document(metadata={'source': 'ML.pdf', 'page': 10}, page_content='머신러닝  접근  방법\\n문제  연구\\n머신러닝  알고리즘  훈련 : 주어진  데이터를  바탕으로  훈련'),\n",
              " Document(metadata={'source': 'ML.pdf', 'page': 10}, page_content='솔루션  평가 : 문제가  없다면  론칭 , 문제가  있다면  오차를  분석한  후  처음  과정부터  다시\\n실시'),\n",
              " Document(metadata={'source': 'ML.pdf', 'page': 11}, page_content=\"예제 : 스팸  메일  분류예제 : 스팸  메일  분류\\n사용자가  스팸으로  지정한  메일에  'For U' 가  자주  등장하는  경우  이  단어가  포함된  이메일을  스팸\"),\n",
              " Document(metadata={'source': 'ML.pdf', 'page': 11}, page_content='으로  분류하도록  스스로  학습'),\n",
              " Document(metadata={'source': 'ML.pdf', 'page': 12}, page_content='머신러닝  학습  자동화머신러닝  학습  자동화\\n머신러닝  작업  흐름의  전체를  머신러닝  파이프라인 또는  MLOps(Machine Learning'),\n",
              " Document(metadata={'source': 'ML.pdf', 'page': 12}, page_content='Operations, 머신러닝  운영 )라  부르며  자동화가  가능함 .\\n참조 : MLOps: 머신러닝의  지속적  배포  및  자동화  파이프라인'),\n",
              " Document(metadata={'source': 'ML.pdf', 'page': 12}, page_content='(https://cloud.google.com/solutions/machine-learning/mlops-continuous-delivery-'),\n",
              " Document(metadata={'source': 'ML.pdf', 'page': 12}, page_content='and-automation-pipelines-in-machine-learning)'),\n",
              " Document(metadata={'source': 'ML.pdf', 'page': 13}, page_content='머신러닝의  장점머신러닝의  장점\\n전통적인  방식으로는  해결  방법이  없는  복잡한  문제  해결  가능\\n머신러닝  시스템은  새로운  데이터에  쉽게  적응  가능'),\n",
              " Document(metadata={'source': 'ML.pdf', 'page': 13}, page_content='복잡한  문제와  대량의  데이터에서  통찰  얻기 (데이터  마이닝 data mining)'),\n",
              " Document(metadata={'source': 'ML.pdf', 'page': 14}, page_content='1.3 적용  사례1.3 적용  사례'),\n",
              " Document(metadata={'source': 'ML.pdf', 'page': 15}, page_content='대표적인  머신러닝  적용  사례대표적인  머신러닝  적용  사례\\n이미지  분류  작업 : 생산  라인에서  제품  이미지를  분석해  자동으로  분류'),\n",
              " Document(metadata={'source': 'ML.pdf', 'page': 15}, page_content='시맨틱  분할  작업 : 뇌를  스캔하여  종양  진단\\n텍스트  분류 ( 자연어  처리 ): 자동으로  뉴스  기사  분류'),\n",
              " Document(metadata={'source': 'ML.pdf', 'page': 15}, page_content='텍스트  분류 : 토론  포럼에서  부정적인  코멘트를  자동으로  구분\\n텍스트  요약 : 긴  문서를  자동으로  요약'),\n",
              " Document(metadata={'source': 'ML.pdf', 'page': 15}, page_content='텍스트  요약 : 긴  문서를  자동으로  요약\\n자연어  이해  : 챗봇 (chatbot) 또는  개인  비서  만들기'),\n",
              " Document(metadata={'source': 'ML.pdf', 'page': 16}, page_content='회귀  분석 : 회사의  내년도  수익을  예측하기\\n음성  인식 : 음성  명령에  반응하는  앱\\n이상치  탐지 : 신용  카드  부정  거래  감지'),\n",
              " Document(metadata={'source': 'ML.pdf', 'page': 16}, page_content='이상치  탐지 : 신용  카드  부정  거래  감지\\n군집  작업 : 구매  이력을  기반  고객  분류  후  다른  마케팅  전략  계획'),\n",
              " Document(metadata={'source': 'ML.pdf', 'page': 16}, page_content='데이터  시각화 : 고차원의  복잡한  데이터셋을  그래프로  효율적  표현\\n추천  시스템 : 과거  구매  이력  관심  상품  추천'),\n",
              " Document(metadata={'source': 'ML.pdf', 'page': 16}, page_content='강화  학습 : 지능형  게임  봇 (bot) 만들기'),\n",
              " Document(metadata={'source': 'ML.pdf', 'page': 17}, page_content='1.4 머신러닝  시스템의  종류1.4 머신러닝  시스템의  종류'),\n",
              " Document(metadata={'source': 'ML.pdf', 'page': 18}, page_content='머신러닝  시스템  분류  기준머신러닝  시스템  분류  기준'),\n",
              " Document(metadata={'source': 'ML.pdf', 'page': 19}, page_content='훈련  지도  여부훈련  지도  여부\\n지도  학습\\n비지도  학습\\n준지도  학습\\n강화  학습'),\n",
              " Document(metadata={'source': 'ML.pdf', 'page': 20}, page_content='실시간  훈련  여부실시간  훈련  여부\\n온라인  학습\\n배치  학습'),\n",
              " Document(metadata={'source': 'ML.pdf', 'page': 21}, page_content='예측  모델  사용  여부예측  모델  사용  여부\\n사례  기반  학습\\n모델  기반  학습'),\n",
              " Document(metadata={'source': 'ML.pdf', 'page': 22}, page_content='분류  기준의  비배타성분류  기준의  비배타성\\n분류  기준이  상호  배타적이지  않음 .\\n스팸  필터  예제'),\n",
              " Document(metadata={'source': 'ML.pdf', 'page': 22}, page_content='스팸  필터  예제\\n심층  신경망  모델  활용  실시간  스팸  메일  분류  학습  가능\\n지도  학습  + 온라인  학습  + 모델  기반  학습'),\n",
              " Document(metadata={'source': 'ML.pdf', 'page': 23}, page_content='지도  학습지도  학습'),\n",
              " Document(metadata={'source': 'ML.pdf', 'page': 24}, page_content='훈련  데이터에  레이블 (label)이라는  답  포함\\n레이블  대신에  타깃 (target)이란  표현도  사용됨 .\\n대표적  지도  학습\\n분류\\n회귀'),\n",
              " Document(metadata={'source': 'ML.pdf', 'page': 25}, page_content='분류분류\\n특성을  사용한  데이터  분류\\n예제 : 스팸  필터\\n특성 : 소속  정보 , 특정  단어  포함  여부  등\\n레이블 ( 타깃 ): 스팸  또는  햄'),\n",
              " Document(metadata={'source': 'ML.pdf', 'page': 26}, page_content='회귀회귀\\n특성을  사용하여  타깃 (target) 수치  예측\\n예제 : 중고차  가격  예측\\n특성 : 주행거리 , 연식 , 브랜드  등\\n타깃 : 중고차  가격'),\n",
              " Document(metadata={'source': 'ML.pdf', 'page': 27}, page_content='중요한  지도학습  알고리즘들중요한  지도학습  알고리즘들\\nk- 최근접  이웃 (k-NNs)\\n선형  회귀 (linear regression)'),\n",
              " Document(metadata={'source': 'ML.pdf', 'page': 27}, page_content='선형  회귀 (linear regression)\\n로지스틱  회귀 (logistic regression)'),\n",
              " Document(metadata={'source': 'ML.pdf', 'page': 27}, page_content='서포트  벡터  머신 (support vector machines, SVCs)\\n결정  트리 (decision trees) 와  랜덤  포레스트 (random forests)'),\n",
              " Document(metadata={'source': 'ML.pdf', 'page': 27}, page_content='신경망 (neural networks)'),\n",
              " Document(metadata={'source': 'ML.pdf', 'page': 28}, page_content='주의사항주의사항\\n일부  회귀  알고리즘을  분류에  사용\\n일부  분류  알고리즘을  회귀에  사용\\n예제 : 로지스틱  회귀 , SVM 등등'),\n",
              " Document(metadata={'source': 'ML.pdf', 'page': 29}, page_content='비지도  학습비지도  학습\\n레이블  없는  훈련  데이터를  이용하여  시스템  스스로  학습'),\n",
              " Document(metadata={'source': 'ML.pdf', 'page': 30}, page_content='대표적  비지도  학습\\n군집\\n시각화\\n차원  축소\\n연관  규칙  학습'),\n",
              " Document(metadata={'source': 'ML.pdf', 'page': 31}, page_content='군집군집\\n데이터를  비슷한  특징을  가진  몇  개의  그룹으로  나누는  것\\n예제'),\n",
              " Document(metadata={'source': 'ML.pdf', 'page': 31}, page_content='예제\\n블로그  방문자들을  그룹으로  묶기 : 남성 , 여성 , 주말 , 주중 , 만화책 , SF, 등등'),\n",
              " Document(metadata={'source': 'ML.pdf', 'page': 32}, page_content='군집  알고리즘군집  알고리즘\\n* k- 평균 \\n* DBSCAN \\n* 계층  군집  분석'),\n",
              " Document(metadata={'source': 'ML.pdf', 'page': 33}, page_content='시각화시각화\\n다차원  특성을  가진  데이터셋을  2D 또는  3D 로  표현하기\\n시각화를  하기  위해서는  데이터의  특성을  2 가지로  줄여야함'),\n",
              " Document(metadata={'source': 'ML.pdf', 'page': 34}, page_content='차원  축소차원  축소\\n데이터의  특성  수  줄이기\\n예제\\n특성  추출 : 상관관계가  있는  여러  특성을  하나로  합치기'),\n",
              " Document(metadata={'source': 'ML.pdf', 'page': 34}, page_content=\"자동차의  주행거리와  연식은  상관관계가  높음 . 따라서  차의  ' 마모정도 ' 라는  하나의  특성\\n으로  합칠  수  있음 .\"),\n",
              " Document(metadata={'source': 'ML.pdf', 'page': 34}, page_content='으로  합칠  수  있음 .\\n차원  축소의  장점 : 머신러닝  알고리즘의  성능  향상\\n훈련  실행  속도  빨라짐\\n메모리  사용  공간  줄어듬'),\n",
              " Document(metadata={'source': 'ML.pdf', 'page': 35}, page_content='시각화와  차원축소  알고리즘시각화와  차원축소  알고리즘\\n* 주성분  분석 (PCA) \\n* 커널  PCA \\n* 지역적  선형  임베딩 \\n* t-SNE'),\n",
              " Document(metadata={'source': 'ML.pdf', 'page': 36}, page_content='비정상  탐지 (anomaly detection)비정상  탐지 (anomaly detection)\\n정상  샘플을  이용하여  훈련  후  입력  샘플의  정상여부  판단 .\\n예제'),\n",
              " Document(metadata={'source': 'ML.pdf', 'page': 36}, page_content='예제\\n부정거래  사용  감지\\n제조  결함  잡아내기\\n이상치 (outliers) 자동  제거'),\n",
              " Document(metadata={'source': 'ML.pdf', 'page': 37}, page_content='특이치  탐지 (novelty detection)특이치  탐지 (novelty detection)'),\n",
              " Document(metadata={'source': 'ML.pdf', 'page': 37}, page_content=\"전혀  ' 오염되지  않은 '(clean) 훈련  세트  활용  후  훈련  세트에  포함된  데이터와  달라  보이는  테이터\\n감지하기\"),\n",
              " Document(metadata={'source': 'ML.pdf', 'page': 38}, page_content='비정상  탐지  vs. 특이치  탐지비정상  탐지  vs. 특이치  탐지\\n예제 : 수  천장의  강아지  사진에  치와와  사진이  1% 정도  포함되어  있는  경우'),\n",
              " Document(metadata={'source': 'ML.pdf', 'page': 38}, page_content='특이치  탐지  알고리즘은  새로운  치와와  사진을  특이한  것으로  간주하지  않음 .'),\n",
              " Document(metadata={'source': 'ML.pdf', 'page': 38}, page_content='반면에  비정상  탐지  알고리즘은  새로운  치와와  사진을  다른  강아지들과  다른  종으로  간\\n주할  수  있음 .'),\n",
              " Document(metadata={'source': 'ML.pdf', 'page': 39}, page_content='비정상  탐지와  특이치  탐지  알고리즘비정상  탐지와  특이치  탐지  알고리즘\\n원 - 클래스  SVM\\nIsolation Forest'),\n",
              " Document(metadata={'source': 'ML.pdf', 'page': 40}, page_content='연관  규칙  학습연관  규칙  학습\\n데이터  특성  간의  흥미로운  관계  찾기\\n예제'),\n",
              " Document(metadata={'source': 'ML.pdf', 'page': 40}, page_content='데이터  특성  간의  흥미로운  관계  찾기\\n예제\\n마트  판매  기록 : 바비규  소스와  감자  구매와  스테이크  구매  사의  연관성이  밝혀지면  상'),\n",
              " Document(metadata={'source': 'ML.pdf', 'page': 40}, page_content='품을  서로  가까이  진열해야  함 .'),\n",
              " Document(metadata={'source': 'ML.pdf', 'page': 41}, page_content='연관  규칙  학습  알고리즘연관  규칙  학습  알고리즘\\nApriori( 에이프라이어라이 )\\nEclat( 에이클라 )'),\n",
              " Document(metadata={'source': 'ML.pdf', 'page': 42}, page_content='준지도  학습준지도  학습\\n적은  수의  샘플에만  레이블  적용\\n비지도  학습을  통해  군집을  분류한  후  샘플들을  활용해  지도  학습을  시킴'),\n",
              " Document(metadata={'source': 'ML.pdf', 'page': 42}, page_content='대부분  지도  학습과  비지도  학습  혼합  사용'),\n",
              " Document(metadata={'source': 'ML.pdf', 'page': 43}, page_content='준지도  학습  예제준지도  학습  예제\\n구글  포토  호스팅 : 가족  사진  몇  장에만  레이블  적용 . 이후  모든  사진에서  가족사진  확인  가능 .'),\n",
              " Document(metadata={'source': 'ML.pdf', 'page': 43}, page_content='아래  그림  참조 : 새로운  사례  X를  세모에  더  가깝다고  판단함 .'),\n",
              " Document(metadata={'source': 'ML.pdf', 'page': 44}, page_content='준지도  학습  알고리즘준지도  학습  알고리즘\\n심층  신뢰  신경망 (deep belief network, DBN)'),\n",
              " Document(metadata={'source': 'ML.pdf', 'page': 44}, page_content='제한된  볼츠만  기계 (restricted Boltzmann mahcine) 이라는  비지도  학습  활용  후 , 전\\n체  시스템을  지도학습시킴 .'),\n",
              " Document(metadata={'source': 'ML.pdf', 'page': 45}, page_content='강화  학습강화  학습\\n에이전트 ( 학습  시스템 ) 가  취한  행동에  대해  보상  또는  벌점을  주어  가장  큰  보상을  받는  방향으로\\n유도하기'),\n",
              " Document(metadata={'source': 'ML.pdf', 'page': 46}, page_content='강화  학습  예제강화  학습  예제\\n보행  로봇\\n딥마인드 (DeepMind) 의  알파고 (AlphaGo)'),\n",
              " Document(metadata={'source': 'ML.pdf', 'page': 47}, page_content='배치  학습  vs. 온라인  학습배치  학습  vs. 온라인  학습\\n점진적으로  입력되는  데이터로부터  학습  가능여부에  따라  구분'),\n",
              " Document(metadata={'source': 'ML.pdf', 'page': 48}, page_content='배치  학습 (batch learning)배치  학습 (batch learning)\\n주어진  훈련  세트  전체를  사용해  오프라인에서  훈련'),\n",
              " Document(metadata={'source': 'ML.pdf', 'page': 48}, page_content='먼저  시스템을  훈련시킨  후  더  이상의  학습  없이  제품  시스템에  적용\\n단점'),\n",
              " Document(metadata={'source': 'ML.pdf', 'page': 48}, page_content='단점\\n컴퓨팅  자원 (cpu, gpu, 메모리 , 저장장치  등 ) 이  충분한  경우에만  사용  가능'),\n",
              " Document(metadata={'source': 'ML.pdf', 'page': 48}, page_content='새로운  데이터가  들어오면  처음부터  새롭게  학습해야  함 . 하지만  \\n 등을  이용한  자동화\\n가능\\nMLOps'),\n",
              " Document(metadata={'source': 'ML.pdf', 'page': 48}, page_content='등을  이용한  자동화\\n가능\\nMLOps\\n(https://cloud.google.com/solutions/machine-learning/mlops-continuous-'),\n",
              " Document(metadata={'source': 'ML.pdf', 'page': 48}, page_content='delivery-and-automation-pipelines-in-machine-learning)'),\n",
              " Document(metadata={'source': 'ML.pdf', 'page': 49}, page_content='온라인  학습 (online learing)온라인  학습 (online learing)\\n적은  양의  데이터 ( 미니배치 , mini-batch) 를  사용해  점진적으로  훈련'),\n",
              " Document(metadata={'source': 'ML.pdf', 'page': 50}, page_content='단점\\n나쁜  데이터가  주입되는  경우  시스템  성능이  점진적으로  떨어질  수  있음 .\\n지속적인  시스템  모니터링  필요'),\n",
              " Document(metadata={'source': 'ML.pdf', 'page': 51}, page_content='예제\\n주식가격  시스템  등  실시간  반영이  중요한  시스템\\n스마트폰  등  제한된  자원의  시스템\\n외부  메모리  학습 : 매우  큰  데이터셋  활용하는  시스템'),\n",
              " Document(metadata={'source': 'ML.pdf', 'page': 52}, page_content='사례  기반  학습  vs. 모델  기반  학습사례  기반  학습  vs. 모델  기반  학습\\n머신러닝  시스템의  일반화 (generalization) 방식에  따른  분류'),\n",
              " Document(metadata={'source': 'ML.pdf', 'page': 52}, page_content=\"일반화 : ' 새로운  데이터에  대한  예측을  잘한다 ' 는  의미\"),\n",
              " Document(metadata={'source': 'ML.pdf', 'page': 53}, page_content='사례  기반  학습사례  기반  학습\\n샘플을  기억하는  것이  훈련의  전부\\n예측을  위해  기존  샘플과의  유사도 측정\\n예제\\nk-NN 알고리즘'),\n",
              " Document(metadata={'source': 'ML.pdf', 'page': 53}, page_content='예제\\nk-NN 알고리즘\\n아래  그림 : 새로운  샘플  X가  기존에  세모인  샘플과의  유사도가  높기  때문에  세모로  분\\n류 .'),\n",
              " Document(metadata={'source': 'ML.pdf', 'page': 55}, page_content='모델  기반  학습모델  기반  학습\\n모델을  미리  지정한  후  훈련  세트를  사용해서  모델을  훈련시킴\\n훈련된  모델을  사용해  새로운  데이터에  대한  예측  실행'),\n",
              " Document(metadata={'source': 'ML.pdf', 'page': 55}, page_content='예제\\n이  책의  다루는  대부분의  알고리즘\\n위  그림 : 학습된  모델을  이용하여  새로운  데이터  X를  세모  클래스로  분류'),\n",
              " Document(metadata={'source': 'ML.pdf', 'page': 56}, page_content='선형  모델  학습  예제선형  모델  학습  예제\\n목표 : OECD 국가의  1 인당  GDP(1 인당  국가총생산 ) 와  삶의  만족도  사이의  관계  파악'),\n",
              " Document(metadata={'source': 'ML.pdf', 'page': 57}, page_content='1 인당  GDP 가  증가할  수록  삶의  만족도가  선형으로  증가하는  것처럼  보임 .\\n데이터를  대표하는  하나의  직선 ( 선형  모델 ) 을  찾기'),\n",
              " Document(metadata={'source': 'ML.pdf', 'page': 58}, page_content='선형  모델 :\\n삶의만족도  =  1 인당 GDP\\n: 모델  파라미터\\n: 기울기\\n: 편향 ( 절편 )\\n+ ×𝜃0 𝜃1\\n,𝜃0 𝜃1\\n𝜃0\\n𝜃1'),\n",
              " Document(metadata={'source': 'ML.pdf', 'page': 58}, page_content='+ ×𝜃0 𝜃1\\n,𝜃0 𝜃1\\n𝜃0\\n𝜃1\\n데이터를  대표할  수  있는  선형  방정식을  찾아야  함'),\n",
              " Document(metadata={'source': 'ML.pdf', 'page': 59}, page_content='학습되는  모델의  성능평가기준을  측정하여  가장  적합한  모델  학습\\n효용  함수 : 모델이  얼마나  좋은지  측정\\n비용  함수 : 모델이  얼마나  나쁜지  측정'),\n",
              " Document(metadata={'source': 'ML.pdf', 'page': 60}, page_content='1.5 머신러닝의  주요  도전  과제1.5 머신러닝의  주요  도전  과제'),\n",
              " Document(metadata={'source': 'ML.pdf', 'page': 61}, page_content='충분하지  않은  양의  훈련  데이터충분하지  않은  양의  훈련  데이터\\n간단한  문제라도  수천  개의  데이터가  필요'),\n",
              " Document(metadata={'source': 'ML.pdf', 'page': 61}, page_content='간단한  문제라도  수천  개의  데이터가  필요\\n이미지나  음성  인식  같은  문제는  수백만  개가  필요할  수도  있음'),\n",
              " Document(metadata={'source': 'ML.pdf', 'page': 61}, page_content='데이터가  부족하면  알고리즘  성능  향성  어려움'),\n",
              " Document(metadata={'source': 'ML.pdf', 'page': 63}, page_content='대표성  없는  훈련  데이터대표성  없는  훈련  데이터\\n샘플링  잡음 : 우연에  의해  대표성이  없는  데이터'),\n",
              " Document(metadata={'source': 'ML.pdf', 'page': 63}, page_content='샘플링  편향 : 표본  추출  방법이  잘못된  대표성이  없는  데이터'),\n",
              " Document(metadata={'source': 'ML.pdf', 'page': 64}, page_content='낮은  품질의  데이터낮은  품질의  데이터\\n이상치  샘플이라면  고치거나  무시\\n특성이  누락되었다면\\n해당  특성을  제외\\n해당  샘플을  제외\\n누락된  값을  채움'),\n",
              " Document(metadata={'source': 'ML.pdf', 'page': 64}, page_content='해당  샘플을  제외\\n누락된  값을  채움\\n해당  특성을  넣은  경우와  뺀  경우  각기  모델을  훈련'),\n",
              " Document(metadata={'source': 'ML.pdf', 'page': 65}, page_content='관련이  없는  특성관련이  없는  특성\\n특성  공학 : 풀려는  문제에  관련이  높은  특성  찾기\\n특성  선택 : 준비되어  있는  특성  중  가장  유용한  특성을  찾음'),\n",
              " Document(metadata={'source': 'ML.pdf', 'page': 65}, page_content='특성  추출 : 특성을  조합하여  새로운  특성을  만듦'),\n",
              " Document(metadata={'source': 'ML.pdf', 'page': 66}, page_content='과대적합과대적합\\n훈련  세트에  특화되어  일반화  성능이  떨어지는  현상'),\n",
              " Document(metadata={'source': 'ML.pdf', 'page': 67}, page_content='여러  규제를  적용해  과대적합을  감소시킬  수  있음'),\n",
              " Document(metadata={'source': 'ML.pdf', 'page': 68}, page_content='과소적합과소적합\\n모델이  너무  단순해서  훈련  세트를  잘  학습하지  못함\\n해결  방법\\n모델  파라미터가  더  많은  강력한  모델을  사용'),\n",
              " Document(metadata={'source': 'ML.pdf', 'page': 68}, page_content='특성  공학으로  더  좋은  특성을  찾음\\n규제의  강도를  줄임'),\n",
              " Document(metadata={'source': 'ML.pdf', 'page': 69}, page_content='1.6 테스트와  검증1.6 테스트와  검증'),\n",
              " Document(metadata={'source': 'ML.pdf', 'page': 70}, page_content='검증검증\\n훈련된  모델의  성능  평가 : 테스트  세트  활용\\n전체  데이터셋을  훈련  세트 (80%) 와  테스트  세트 (20%) 로  구분'),\n",
              " Document(metadata={'source': 'ML.pdf', 'page': 70}, page_content='훈련  세트 : 모델  훈련용 .\\n테스트  세트 : 모델  테스트용\\n데이터셋이  매우  크면  테스트  세트  비율을  낮출  수  있음 .\\n검증  기준 : 일반화  오차'),\n",
              " Document(metadata={'source': 'ML.pdf', 'page': 70}, page_content='검증  기준 : 일반화  오차\\n새로운  샘플에  대한  오류  비율\\n학습된  모델의  일반화  성능의  기준\\n과대  적합 : 훈련  오차에  비해  일반화  오차가  높은  경우'),\n",
              " Document(metadata={'source': 'ML.pdf', 'page': 71}, page_content='하이퍼파라미터  튜닝과  교차  검증하이퍼파라미터  튜닝과  교차  검증'),\n",
              " Document(metadata={'source': 'ML.pdf', 'page': 72}, page_content='하이퍼파라미터 (hyper-parameter)하이퍼파라미터 (hyper-parameter)\\n알고리즘  학습  모델을  지정에  사용되는  파라미터'),\n",
              " Document(metadata={'source': 'ML.pdf', 'page': 72}, page_content='훈련  과정에  변하는  파라미터가  아님\\n하이퍼파라미터를  조절하면서  가장  좋은  성능의  모델  선정'),\n",
              " Document(metadata={'source': 'ML.pdf', 'page': 73}, page_content='교차  검증교차  검증\\n예비표본 ( 홀드아웃 holdout) 검증\\n예비표본 ( 검증세트 ): 훈련  세트의  일부로  만들어진  데이터셋'),\n",
              " Document(metadata={'source': 'ML.pdf', 'page': 73}, page_content='다양한  하이퍼파라미터  값을  후보  모델  평가용으로  예비표본을  검증세트로  활용하는\\n기법\\n교차  검증'),\n",
              " Document(metadata={'source': 'ML.pdf', 'page': 73}, page_content='기법\\n교차  검증\\n여러  개의  검증세트를  사용한  반복적인  예비표본  검증  적용  기법'),\n",
              " Document(metadata={'source': 'ML.pdf', 'page': 73}, page_content='장점 : 교차  검증  후  모든  모델의  평가를  평균하면  훨씬  정확한  성능  측정  가능\\n단점 : 훈련  시간이  검증  세트의  개수에  비례해  늘어남'),\n",
              " Document(metadata={'source': 'ML.pdf', 'page': 74}, page_content='데이터  불일치데이터  불일치\\n모델  훈련에  사용된  데이터가  실전에  사용되는  데이터를  완벽하게  대변하지  못하는  경우  발생\\n예제 : 꽃이름  확인  알고리즘'),\n",
              " Document(metadata={'source': 'ML.pdf', 'page': 74}, page_content='예제 : 꽃이름  확인  알고리즘\\n인터넷으로  구한  꽃사진으로  모델  훈련'),\n",
              " Document(metadata={'source': 'ML.pdf', 'page': 74}, page_content='인터넷으로  구한  꽃사진으로  모델  훈련\\n이후  직접  촬영한  사진으로  진행한  성능측정이  낮게  나오면  데이터  불일치 가능성  높음'),\n",
              " Document(metadata={'source': 'ML.pdf', 'page': 75}, page_content='데이터  불일치  여부  확인  방법\\n훈련 - 개발  세트 : 예를  들어 , 인터넷에서  다운로드한  꽃사진의  일부'),\n",
              " Document(metadata={'source': 'ML.pdf', 'page': 75}, page_content='나머지  꽃사진으로  모델  훈련  후 , 훈련 - 개발  세트를  이용한  성능  평가  진행'),\n",
              " Document(metadata={'source': 'ML.pdf', 'page': 75}, page_content='데이터  불일치  발생 : 성능  평가가  좋지만  직접  촬영한  사진으로  구성된  검증  세트에  대\\n한  성증이  좋지  않은  경우'),\n",
              " Document(metadata={'source': 'ML.pdf', 'page': 76}, page_content='공짜  점심  없음 (No free lunch)공짜  점심  없음 (No free lunch)\\n주어진  데이터셋에  가장  적절한  모델을  미리  알  수  없음 .'),\n",
              " Document(metadata={'source': 'ML.pdf', 'page': 76}, page_content='다양한  모델과  다양한  하이퍼파라미터  튜닝을  통해  확인해야  함 .')]"
            ]
          },
          "metadata": {},
          "execution_count": 102
        }
      ]
    },
    {
      "cell_type": "code",
      "source": [
        "vector_store = FAISS.from_documents(documents=splits, embedding=OpenAIEmbeddings())"
      ],
      "metadata": {
        "id": "FLs9ghnrtktY"
      },
      "execution_count": 66,
      "outputs": []
    },
    {
      "cell_type": "code",
      "source": [
        "# vector_store.save_local('VectorStore')"
      ],
      "metadata": {
        "id": "XykrZMsOxFRD"
      },
      "execution_count": 69,
      "outputs": []
    },
    {
      "cell_type": "code",
      "source": [
        "# FAISS.load_local('VectorStore', OpenAIEmbeddings())"
      ],
      "metadata": {
        "id": "nLZwltBzxh9j"
      },
      "execution_count": null,
      "outputs": []
    },
    {
      "cell_type": "code",
      "source": [
        "retriever = vector_store.as_retriever(search_kargs={'k': 2})"
      ],
      "metadata": {
        "id": "sZIMRq9nvyra"
      },
      "execution_count": 103,
      "outputs": []
    },
    {
      "cell_type": "code",
      "source": [
        "llm = ChatOpenAI(model='gpt-3.5-turbo', temperature=0.0)"
      ],
      "metadata": {
        "id": "Az5zlpynwXn4"
      },
      "execution_count": 104,
      "outputs": []
    },
    {
      "cell_type": "code",
      "source": [
        "template = '''\n",
        "다음 정보에 기반하여 질문에 답변하세요: {context}\n",
        "\n",
        "질문: {question}\n",
        "답변:\n",
        "'''"
      ],
      "metadata": {
        "id": "0jNJHntn00HD"
      },
      "execution_count": 105,
      "outputs": []
    },
    {
      "cell_type": "code",
      "source": [
        "prompt = PromptTemplate(input_variables=['context', 'question'], template=template)"
      ],
      "metadata": {
        "id": "QDqWxB_b1f3s"
      },
      "execution_count": 106,
      "outputs": []
    },
    {
      "cell_type": "code",
      "source": [
        "chain = RetrievalQA.from_chain_type(\n",
        "    llm=llm,\n",
        "    retriever=retriever,\n",
        "    return_source_documents=True,\n",
        "    chain_type_kwargs={'prompt': prompt}\n",
        ")"
      ],
      "metadata": {
        "id": "kz1LIBD_wicY"
      },
      "execution_count": 107,
      "outputs": []
    },
    {
      "cell_type": "code",
      "source": [
        "query = '머신러닝의 학습 종류에는 무엇이 있나요?'\n",
        "res = chain({'query': query})"
      ],
      "metadata": {
        "id": "3DMZDLXjzVr4"
      },
      "execution_count": 108,
      "outputs": []
    },
    {
      "cell_type": "code",
      "source": [
        "print('답변:', res['result'])\n",
        "print('참조: ', res['source_documents'])"
      ],
      "metadata": {
        "colab": {
          "base_uri": "https://localhost:8080/"
        },
        "id": "9VBgdZJB2n-Y",
        "outputId": "6f433747-4b9b-4928-c0fe-8b89929b83c6"
      },
      "execution_count": 109,
      "outputs": [
        {
          "output_type": "stream",
          "name": "stdout",
          "text": [
            "답변: 머신러닝의 학습 종류에는 지도 학습, 비지도 학습, 준지도 학습, 강화 학습 등이 있습니다.\n",
            "참조:  [Document(metadata={'source': 'ML.pdf', 'page': 3}, page_content='1.1 머신러닝이란 ?1.1 머신러닝이란 ?'), Document(metadata={'source': 'ML.pdf', 'page': 17}, page_content='1.4 머신러닝  시스템의  종류1.4 머신러닝  시스템의  종류'), Document(metadata={'source': 'ML.pdf', 'page': 7}, page_content='1.2 왜  머신러닝을  사용하는가 ?1.2 왜  머신러닝을  사용하는가 ?'), Document(metadata={'source': 'ML.pdf', 'page': 4}, page_content='머신러닝은  명시적인  프로그래밍 없이  컴퓨터가  학습하는  능력을  갖추게  하는  연구  분야')]\n"
          ]
        }
      ]
    },
    {
      "cell_type": "code",
      "source": [
        "query = '비지도 학습의 종류를 설명해주세요'\n",
        "res = chain({'query': query})"
      ],
      "metadata": {
        "id": "eaJzHknS31-A"
      },
      "execution_count": 110,
      "outputs": []
    },
    {
      "cell_type": "code",
      "source": [
        "print('답변: ', res['result'])\n",
        "print('참조: ', res['source_documents'])"
      ],
      "metadata": {
        "colab": {
          "base_uri": "https://localhost:8080/"
        },
        "id": "miH9TBUM4Z4R",
        "outputId": "2372653d-50f1-4cf0-e47e-e7d11d968574"
      },
      "execution_count": 111,
      "outputs": [
        {
          "output_type": "stream",
          "name": "stdout",
          "text": [
            "답변:  비지도 학습의 종류에는 군집, 시각화, 차원 축소, 연관 규칙 학습 등이 있습니다. 군집은 데이터를 비슷한 특성을 가진 그룹으로 나누는 것을 의미하고, 시각화는 데이터를 시각적으로 표현하여 패턴을 찾는 것을 의미합니다. 차원 축소는 데이터의 특성을 줄여서 더 간단하게 만드는 것을 의미하며, 연관 규칙 학습은 데이터 간의 관계를 찾아내는 것을 의미합니다.\n",
            "참조:  [Document(metadata={'source': 'ML.pdf', 'page': 29}, page_content='비지도  학습비지도  학습\\n레이블  없는  훈련  데이터를  이용하여  시스템  스스로  학습'), Document(metadata={'source': 'ML.pdf', 'page': 30}, page_content='대표적  비지도  학습\\n군집\\n시각화\\n차원  축소\\n연관  규칙  학습'), Document(metadata={'source': 'ML.pdf', 'page': 23}, page_content='지도  학습지도  학습'), Document(metadata={'source': 'ML.pdf', 'page': 42}, page_content='준지도  학습준지도  학습\\n적은  수의  샘플에만  레이블  적용\\n비지도  학습을  통해  군집을  분류한  후  샘플들을  활용해  지도  학습을  시킴\\n대부분  지도  학습과  비지도  학습  혼합  사용')]\n"
          ]
        }
      ]
    },
    {
      "cell_type": "code",
      "source": [
        "rag_chain = (\n",
        "    {'context': retriever, 'question': RunnablePassthrough()}\n",
        "    | prompt\n",
        "    | llm\n",
        "    | StrOutputParser()\n",
        ")"
      ],
      "metadata": {
        "id": "RIxGIbeY4a_A"
      },
      "execution_count": 126,
      "outputs": []
    },
    {
      "cell_type": "code",
      "source": [
        "query = '머신러닝의 장점을 설명해주세요.'\n",
        "\n",
        "full_response=''\n",
        "\n",
        "for partial_response in rag_chain.stream(query):\n",
        "     full_response += partial_response\n",
        "\n",
        "print(full_response)"
      ],
      "metadata": {
        "colab": {
          "base_uri": "https://localhost:8080/"
        },
        "id": "FH9InGbY9EmQ",
        "outputId": "be4ff7bc-0cd4-46d1-ac52-abf351292b76"
      },
      "execution_count": 128,
      "outputs": [
        {
          "output_type": "stream",
          "name": "stdout",
          "text": [
            "머신러닝의 장점은 다음과 같습니다:\n",
            "1. 전통적인 방식으로는 해결 방법이 없는 복잡한 문제를 해결할 수 있다.\n",
            "2. 머신러닝 시스템은 새로운 데이터에 쉽게 적응할 수 있다.\n",
            "3. 복잡한 문제와 대량의 데이터에서 통찰을 얻을 수 있어 데이터 마이닝이 가능하다.\n"
          ]
        }
      ]
    },
    {
      "cell_type": "code",
      "source": [],
      "metadata": {
        "id": "XBw3F8n59H1g"
      },
      "execution_count": 127,
      "outputs": []
    }
  ]
}